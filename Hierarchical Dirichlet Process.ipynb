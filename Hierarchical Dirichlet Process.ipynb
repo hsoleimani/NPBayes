{
 "metadata": {
  "name": ""
 },
 "nbformat": 3,
 "nbformat_minor": 0,
 "worksheets": [
  {
   "cells": [
    {
     "cell_type": "heading",
     "level": 1,
     "metadata": {},
     "source": [
      "Tutorial on Hierarchical Dirchlet Processes (HDP)"
     ]
    },
    {
     "cell_type": "markdown",
     "metadata": {},
     "source": [
      "This is a tutorial on HDP based on Hierarchical Bayesian Nonparametric Models with Applications ([Teh, Jordan 2008](http://www.cs.berkeley.edu/~jordan/papers/teh-jordan-bnp.pdf))\n",
      "\n",
      "HDP is useful when we have data sets consisting of multiple groups of data and the model for each one of these groups involves a discrete variable of unknown cardinality. In this case, we can us a DP to model wach group and tie all these DPs through their base measures. e.g. for each group $j$, we have $G_j|\\alpha,G_0\\sim DP(\\alpha,G_0)~\\forall j \\in \\mathcal{J}$ where $G_0|\\gamma,H\\sim DP(\\gamma,H)$.\n",
      "\n",
      "Since draws from a DP are discrete atoms and all $G_j$s have common base measure (a DP draw), $G_j$s will have shared atoms.\n"
     ]
    },
    {
     "cell_type": "markdown",
     "metadata": {},
     "source": [
      "**Stick-Breaking Construction**\n",
      "\n",
      "First, we have a stick-breaking representation for the random base measure $G_0$:\n",
      "\n",
      "$$G_0 = \\sum_{k=1}^{\\infty}\\beta_k\\delta_{\\theta^{**}_k},$$\n",
      "where\n",
      "$\\nu_k|\\gamma \\sim \\text{Beta}(1,\\gamma)~\\forall k=1,...,\\infty$, $\\beta_k = \\nu_k\\prod_{1=1}^{k-1}(1-\\nu_l)$, and $\\theta^{**}_{k}|H\\sim H$.\n",
      "\n",
      "Note that $G_j$s are also distributed according to a DP. Moreover, since base measure of $G_j$ is $G_0$, the support of $G_j$ is contained within the support of $G_0$. Therefore, the stick breaking representation of $G_j$ is a reweighted sum pf the atoms in $G_0$:\n",
      "$$G_j = \\sum_{k=1}^{\\infty}\\pi_{jk}\\delta_{\\theta^{**}_k}.$$\n",
      "\n",
      "*What is the relationship between $\\underline{\\beta}=(\\beta_1,\\beta_2,...)$ and $\\underline{\\pi_j}=(\\pi_{j1},\\pi_{j2},...)$?*\n",
      "\n",
      "Since $G_j = DP(\\alpha,g_0)$, following the defining property of DP, we can say that for any measurable partition $(A_1,...,A_r)$ of $\\Theta$: $(G_j(A_1),...,G_j(A_r))\\sim Dir(\\alpha G_0(A_1),...,\\alpha G_0(A_r))$. \n",
      "Let $I_l = \\{i: \\theta^{**}\\in A_l\\}~\\forall l=1,...,r$. Then, $(\\sum_{i\\in I_1}\\pi_{ji},...,\\sum_{i\\in I_r}\\pi_{ji})\\sim Dir(\\alpha \\sum_{i\\in I_1}\\beta_{i},...,\\alpha \\sum_{i\\in I_r}\\beta_{i})$. And since this is true for any measurable partition $(A_1,...,A_r)$, we conclude that $\\pi_j \\sim DP(\\alpha,\\beta)$.\n",
      "\n",
      "In particular, consider the following partition and its corresponding Dirichlet distribution: $\\big(\\sum_{l=1}^{i-1}\\pi_{jl},\\pi_{ji},\\sum_{l=i+1}^{\\infty}\\pi_{jl}\\big)\\sim Dir\\big(\\alpha\\sum_{l=1}^{i-1}\\beta_{l},\\alpha\\beta_{i},\\alpha\\sum_{l=i+1}^{\\infty}\\beta_{l}\\big)$. Following standard properties of Dirichlet distribution, we can easily see that:\n",
      "\n",
      "$$\\pi_{ji}\\sim \\text{Beta}(\\alpha\\beta_i,\\alpha(1-\\beta_i)).$$\n",
      "\n",
      "Similarly, $\\big(\\frac{\\pi_{ji}}{1-\\sum_{l=1}^{i-1}\\pi_{jl}},\\frac{\\sum_{l=i+1}^{\\infty}\\pi_{jl}}{1-\\sum_{l=1}^{i-1}\\pi_{jl}}\\big)\\sim Dir(\\alpha\\beta_i,\\alpha\\sum_{l=i+1}^{\\infty}\\beta_{i})$. \n",
      "\n",
      "Let $\\nu_{ji}=\\frac{\\pi_{ji}}{1-\\sum_{l=1}^{i-1}\\pi_{jl}}$. Then, it is easily seen that $\\pi_{jk} = \\nu_{jk}\\prod_{l=1}^{k-1}(1-\\nu_{jk})$. Also, note that $\\sum_{l=i+1}^{\\infty}\\beta_{i} = 1-\\sum_{l=1}^{i}\\beta_{i}$. Therefore,\n",
      "\n",
      "$$\\nu_{jk}|\\alpha,\\beta_1,...,\\beta_k\\sim \\text{Beta}\\bigg(\\alpha\\beta_k,\\alpha(1-\\sum_{l=1}^{k}\\beta_l)\\bigg)~\\forall k=1,...,\\infty$$\n",
      "$$\\pi_{jk} = \\nu_{jk}\\prod_{l=1}^{k-1}(1-\\nu_{jk}).$$\n",
      "\n",
      "Also, $E[\\beta_k] = \\frac{1}{\\gamma}(\\frac{\\gamma}{1+\\gamma})^k$, $E[\\pi_{jk}] = E[\\beta_k]$, and $Var[\\pi_{jk}] = E[\\frac{\\beta_k(1-\\beta_k)}{1+\\alpha}]+Var[\\beta_k] > Var[\\beta_k]$.\n",
      "\n",
      "Some sample draws from an HDP:"
     ]
    },
    {
     "cell_type": "code",
     "collapsed": false,
     "input": [
      "import numpy as np\n",
      "import random as random\n",
      "import matplotlib.pyplot as plt\n",
      "%matplotlib inline\n",
      "\n",
      "np.random.seed(1415117801)"
     ],
     "language": "python",
     "metadata": {},
     "outputs": [],
     "prompt_number": 8
    },
    {
     "cell_type": "code",
     "collapsed": false,
     "input": [
      "def stick_breaking_process(N, alpha):\n",
      "    \n",
      "    alpha = float(alpha)\n",
      "    theta0 = np.zeros(N) # theta for each sampple\n",
      "    beta = np.zeros(N) # weight for each sample\n",
      "    # 1st sample generate a cluster\n",
      "    nu = np.random.beta(1,alpha)\n",
      "    beta[0] = nu\n",
      "    theta0[0] = np.random.normal()\n",
      "    prodagg = 1 - nu\n",
      "    for n in range(1,N):\n",
      "        nu = np.random.beta(1,alpha)\n",
      "        beta[n] = nu*prodagg\n",
      "        prodagg = prodagg*(1-nu)\n",
      "        theta0[n] = np.random.normal()\n",
      "           \n",
      "    return(beta, theta0)\n",
      "\n",
      "def stick_breaking_process2(N, alpha, beta):\n",
      "\n",
      "    alpha = float(alpha)\n",
      "    pi0 = np.zeros(N) # weight for each sample\n",
      "    # 1st sample generate a cluster\n",
      "    nu = np.random.beta(alpha*beta[0],alpha*(1-beta[0]))\n",
      "    pi0[0] = nu\n",
      "    prodagg = 1 - nu\n",
      "    for n in range(1,N):\n",
      "        nu = np.random.beta(alpha*beta[n],alpha*(1-np.sum(beta[0:(n+1)])))\n",
      "        pi0[n] = nu*prodagg\n",
      "        prodagg = prodagg*(1-nu)\n",
      "           \n",
      "    return(pi0)\n",
      "\n",
      "alpha = 10\n",
      "N = 4000\n",
      "plt.figure()\n",
      "plt.subplot(131)\n",
      "beta, theta0 = stick_breaking_process(N,alpha)\n",
      "plt.bar(theta0, beta, width=0.05)\n",
      "plt.title('beta')\n",
      "plt.subplot(132)\n",
      "# generate pi_1\n",
      "pi1 = stick_breaking_process2(N, alpha, beta)\n",
      "plt.bar(theta0, pi1, width=0.05)\n",
      "plt.title('pi_1')\n",
      "# generate pi_2\n",
      "plt.subplot(133)\n",
      "pi2 = stick_breaking_process2(N, alpha, beta)\n",
      "plt.bar(theta0, pi2, width=0.05)\n",
      "plt.title('pi_2')"
     ],
     "language": "python",
     "metadata": {},
     "outputs": [
      {
       "metadata": {},
       "output_type": "pyout",
       "prompt_number": 10,
       "text": [
        "<matplotlib.text.Text at 0x7f082cfe13d0>"
       ]
      },
      {
       "metadata": {},
       "output_type": "display_data",
       "png": "[encoded data removed]",
       "text": [
        "<matplotlib.figure.Figure at 0x7f084b79e710>"
       ]
      }
     ],
     "prompt_number": 10
    },
    {
     "cell_type": "markdown",
     "metadata": {},
     "source": [
      "**Sethuraman\u2019s Stick-Breaking Construction**\n",
      "\n",
      "In the original stick-breaking construction for HDP, the stick-breaking weights ($\\pi$ and $\\beta$) are coupled in all first and second levels of the hierarchy. An alternative stick-breaking construction for HDP is described in (Wang, Paisely, and Blei, 2011) which solves this problem. This alternative construction is inparticular helpful obtaining closed-form updates in variational inference for HDP.\n",
      "\n",
      "The first level $G_0$ has the same construction as described above. Each $G_j$ is then constructed through a mapping to atoms in $G_0$ ($\\theta^{* *}$):\n",
      "\n",
      "$$G_j = \\sum_{k=1}^\\infty \\pi_{jk}\\delta_{\\pi_{jk}}$$\n",
      "where $\\psi_{jk} \\sim G_0$, $\\nu_{jk}\\sim Beta(1,\\alpha)$, and $\\pi_{jk}=\\nu_{jk}\\prod_{l=1}^{t-1}(1-\\nu_{jl})$.\n",
      "\n",
      "A practical way of representing second level atoms ($\\psi$) is to sample indicator variables $c_{jk}\\sim Mult(\\beta)~k=1,2,...$ and set $\\psi_{jk} = \\theta^{* *}_{c_{jk}}$."
     ]
    },
    {
     "cell_type": "markdown",
     "metadata": {},
     "source": [
      "**Chinese Restaurant Franchise (DRF)**\n",
      "\n",
      "The CRP metaphor for DP is extended to DRF for HDP. In CRF, there is one restaurant for each $j \\in \\mathcal{J}$. All restaurants are tied together via a franchise-wide menu of possible dishes. Customers choose to sit at different tables in each restaurant similar to CRP but here, the first customer at each table chooses a dish and all subsequent customers at that table inherit that dish. Dishes are chosen proportional to the number of tables that serve that dish.\n",
      "\n",
      "*Notations:*\n",
      "\n",
      "* Restaurant $j$, * customer $i$, * table $t$\n",
      "\n",
      "* $\\theta_{ji}\\sim G_j$: random variable of customer $i$ in restaurant $j$.\n",
      "* $\\theta^*_{jt}$: random variable of table $t$ in restaurant $j$.\n",
      "* $\\theta^{**}_k$ dish $k$\n",
      "* $\\theta_{ji} = \\theta^*_{jt_{ji}} = \\theta^{**}_{k_{jt_{ji}}}$. ${k_{jt_{ji}}}$ is the dish served at the table that customer $i$ sits at restaurant $j$.\n",
      "\n",
      "* $n_{jtk}$: \\# customers\n",
      "* $m_{jk}$: \\# tables\n",
      " \n",
      "*Predictive distributions:*\n",
      "\n",
      "Since $G_j$ is a DP, if we integrate out $G_j$, predictive distributions of draws from $G_j$ conditioned on the previous draws and the base measure $G_0$ is:\n",
      "$$\\theta_{ji}|\\theta_{j1},...,\\theta_{j,i-1},\\alpha,G_0 \\sim \\sum_{t=1}^{m_{j\\cdot}}\\frac{n_{jt\\cdot}}{\\alpha + n_{j\\cdot\\cdot}}\\delta_{\\theta^*_{jt}} + \\frac{\\alpha}{\\alpha + n_{j\\cdot\\cdot}}G_0.$$\n",
      "\n",
      "i.e. a new customer either chooses one of the existing tables ($m_{j\\cdot}$) with probability proportional to the number of people at that table ($n_{jt\\cdot}$) or sits at a new table. \n",
      "\n",
      "Furthermore, we can integrate out $G_0$ and obtain the predictive distribution for $\\theta^{*}_{jt}$:\n",
      "$$\\theta^*_{ji}|\\theta^*_{11},...\\theta^*_{1m_1},...,\\theta^*_{j,t-1},\\gamma,H \\sim \\sum_{k=1}^{K}\\frac{m_{\\cdot k}}{\\gamma+m_{\\cdot\\cdot}}\\delta_{\\theta^{**}_{k}} + \\frac{\\gamma}{\\gamma + m_{\\cdot\\cdot}}H.$$\n",
      "\n",
      "We know that number of clusters in a DP grows logarithmically in sample size. Thus, $m_{j\\cdot} = O(\\alpha\\log\\frac{n_{j\\cdot\\cdot}}{\\alpha})$ and \n",
      "$$K = O(\\gamma\\log\\frac{m_{\\cdot\\cdot}}{\\gamma}) = O(\\gamma\\log\\sum_j\\frac{m_{j\\cdot}}{\\gamma}) = O(\\gamma\\log(\\frac{\\alpha}{\\gamma}\\sum_j\\log\\frac{n_{j\\cdot\\cdot}}{\\alpha}))$$\n",
      "\n",
      "If we assume that $n_{j\\cdot\\cdot} = O(N)$ and $|j| = J$, then $K = O(\\gamma\\log\\frac{\\alpha}{\\gamma}J\\log\\frac{N}{\\alpha}) = O(\\gamma\\log\\frac{\\alpha}{\\gamma}+\\gamma\\log J+\\gamma\\log\\log\\frac{N}{\\alpha})$.\n",
      "\n",
      "I.e. *\"the number of clusters scales doubly logarithmically in the size of each group amd logariothmically in the number of groups\"*"
     ]
    },
    {
     "cell_type": "markdown",
     "metadata": {},
     "source": [
      "**Posterior Distribution**\n",
      "\n",
      "Given $\\theta^*$, $G_0$ is independent of the rest of the CRF. Therefore, similar to simple DP, posterior of $G_0$ is:\n",
      "$$G_0|\\gamma,H,\\theta^* \\sim DP\\bigg(\\gamma + m_{\\cdot \\cdot},\\frac{\\gamma H+\\sum_{k=1}^{K}m_{\\cdot k}\\delta_{\\theta^{* *}_k}}{\\gamma + m_{\\cdot \\cdot}}\\bigg).$$\n",
      "\n",
      "Note that $\\theta^{ * *}$ and $m$ can be obtained from $\\theta^*$ by taking unique values in $\\theta^*$ and their counts.\n",
      "\n",
      "Also, note that the posterior distribution is in fact a mixture of the original (prior) $H$ and some probability masses at $\\theta^{* *}$. In fact, we can draw from this posterior as follows:\n",
      "$$\\beta_0,\\beta_1,...,\\beta_K|\\gamma,\\theta^{*}\\sim Dir(\\gamma,m_{\\cdot 1},...,m_{\\cdot K})$$\n",
      "$$G'_0|\\gamma,H\\sim DP(\\gamma,H)$$\n",
      "$$G_0 = \\beta_0G'_0+\\sum_{k=1}^{K}\\beta_k\\delta_{\\theta^{* *}_{k}}$$\n",
      "\n",
      "Similarly, we can derive posterior of $G_j$ conditioned on a draw from posterior of $G_0$ and $\\theta$:\n",
      "\n",
      "$$G_j|\\alpha,G_0,\\theta_j \\sim DP\\bigg(\\alpha + n_{j\\cdot \\cdot},\\frac{\\alpha G_0+\\sum_{k=1}^{K}n_{j\\cdot k}\\delta_{\\theta^{* *}_k}}{\\gamma + n_{j\\cdot \\cdot}}\\bigg).$$\n",
      "\n",
      "And, again, we can sample from this distribution by observing that the posterior is a mixture model:\n",
      "$$\\pi_{j0},\\pi_{j1},...,\\pi_{jK}|\\alpha,\\theta_{j}\\sim Dir(\\alpha\\beta_0,\\alpha\\beta_1 n_{j\\cdot 1},...,\\alpha\\beta_K n_{j\\cdot K})$$\n",
      "$$G'_j|\\gamma,G_0\\sim DP(\\alpha\\beta_0,G'_0)$$\n",
      "$$G_j = \\pi_{j0}G'_j+\\sum_{k=1}^{K}\\pi_{jk}\\delta_{\\theta^{* *}_{k}}$$\n"
     ]
    },
    {
     "cell_type": "markdown",
     "metadata": {},
     "source": [
      "# HDP for Topic Modeling\n",
      "\n",
      "Next, I will implement the HDP Topic model discussed in ([Hoffman, Blei, et al. 2013](http://jmlr.org/papers/volume14/hoffman13a/hoffman13a.pdf)). \n",
      "\n",
      "See https://github.com/hsoleimani/HDP_LDA.\n"
     ]
    }
   ],
   "metadata": {}
  }
 ]
}